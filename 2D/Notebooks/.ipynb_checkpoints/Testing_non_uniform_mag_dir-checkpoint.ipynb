{
 "cells": [
  {
   "cell_type": "code",
   "execution_count": 1,
   "id": "2cd469ba-4a6e-4c4e-be7c-0f2203419ef3",
   "metadata": {},
   "outputs": [],
   "source": [
    "import sys\n",
    "import numpy as np\n",
    "import json\n",
    "import torch\n",
    "import pandas as pd\n",
    "import os\n",
    "from pathlib import Path\n",
    "from scipy.io import loadmat, matlab\n",
    "\n",
    "import matplotlib.pyplot as plt\n",
    "from matplotlib_scalebar.scalebar import ScaleBar\n",
    "\n",
    "sys.path.append(r'C:\\Users\\parax\\Dropbox\\Programming\\Python\\magnetisation_reconstruction\\2D')\n",
    "from Magnetisation.Propagator import Propagator\n",
    "from Magnetisation.Generator import generator_CNN\n",
    "from Magnetisation.Train import Magnetisation_CNN_training\n",
    "from Magnetisation.utils import LoadData"
   ]
  },
  {
   "cell_type": "code",
   "execution_count": 2,
   "id": "b4eec927-1650-4c16-95be-5f32c1b81f8f",
   "metadata": {},
   "outputs": [
    {
     "name": "stderr",
     "output_type": "stream",
     "text": [
      "C:\\Users\\parax\\AppData\\Local\\Temp/ipykernel_7132/38678219.py:14: RuntimeWarning: invalid value encountered in true_divide\n",
      "  MagAngle = 180/np.pi *np.arctan(MagY/ MagX)\n"
     ]
    }
   ],
   "source": [
    "\n",
    "MagX = np.zeros((256,256))\n",
    "MagY = np.zeros((256,256))\n",
    "\n",
    "# Shape 1\n",
    "MagX[40:180,60:120] = 20\n",
    "MagY[40:180,60:120] = 1\n",
    "\n",
    "# shape 2\n",
    "MagX[60:160,120:160] = 5\n",
    "MagY[60:160,120:160] = 30\n",
    "\n",
    "\n",
    "MagMag = np.sqrt(MagX**2 + MagY**2)\n",
    "MagAngle = 180/np.pi *np.arctan(MagY/ MagX)\n"
   ]
  },
  {
   "cell_type": "code",
   "execution_count": 3,
   "id": "c7184a6a-8476-418c-9406-c9c4219629ca",
   "metadata": {},
   "outputs": [
    {
     "name": "stderr",
     "output_type": "stream",
     "text": [
      "C:\\Users\\parax\\Dropbox\\Programming\\Python\\magnetisation_reconstruction\\2D\\Magnetisation\\Propagator.py:356: RuntimeWarning: invalid value encountered in true_divide\n",
      "  [-(kx ** 2) / k, -(kx * ky) / k, -1j * kx],\n",
      "C:\\Users\\parax\\Dropbox\\Programming\\Python\\magnetisation_reconstruction\\2D\\Magnetisation\\Propagator.py:357: RuntimeWarning: invalid value encountered in true_divide\n",
      "  [-kx * ky / k, -(ky ** 2 / k), -1j * ky],\n"
     ]
    }
   ],
   "source": [
    "# Make a magnetic field image\n",
    "\n",
    "# Define the dictionary for the forward propagation\n",
    "PropagationOptions = dict()\n",
    "PropagationOptions['PixelSize'] =  10e-9\n",
    "PropagationOptions['ImageShape'] = 256\n",
    "PropagationOptions['NV'] = dict()\n",
    "PropagationOptions['NV']['Theta'] = 0\n",
    "PropagationOptions['NV']['Phi'] = 0\n",
    "PropagationOptions['NV']['Height'] = 10e-9\n",
    "PropagationOptions['use_stand_off'] = True\n",
    "PropagationOptions['Magnetisation'] = dict()\n",
    "PropagationOptions['Magnetisation']['Theta'] = 90 \n",
    "PropagationOptions['Magnetisation']['Phi'] =  0 \n",
    "PropagationOptions['FFT'] = dict()\n",
    "\n",
    "\n",
    "# Make an instance of the propagator class\n",
    "PROP = Propagator(PropagationOptions,  Magnetisation = MagX)\n",
    "# Propagate the magnetisation to magnetic field\n",
    "bnv1, m_to_bx, m_to_by, m_to_bz, u_prop, NVtheta, NVPhi = PROP.bxyz_from_mag(MagX)\n",
    "\n",
    "\n",
    "PropagationOptions['Magnetisation'] = dict()\n",
    "PropagationOptions['Magnetisation']['Theta'] = 90 \n",
    "PropagationOptions['Magnetisation']['Phi'] =  90 \n",
    "# Make an instance of the propagator class\n",
    "PROP2 = Propagator(PropagationOptions,  Magnetisation = MagY)\n",
    "# Propagate the magnetisation to magnetic field\n",
    "bnv2, m_to_bx, m_to_by, m_to_bz, u_prop, NVtheta, NVPhi = PROP2.bxyz_from_mag(MagY)\n",
    "\n",
    "unit_conversion_M_to_B =9.27e-24 / 1e-18\n",
    "\n",
    "B = bnv1 + bnv2\n",
    "B = B*1e-5"
   ]
  },
  {
   "cell_type": "code",
   "execution_count": 4,
   "id": "5f261184-e61b-4256-8454-37924d59535f",
   "metadata": {},
   "outputs": [
    {
     "name": "stderr",
     "output_type": "stream",
     "text": [
      "C:\\Users\\parax\\AppData\\Local\\Temp/ipykernel_7132/3049498757.py:10: RuntimeWarning: invalid value encountered in true_divide\n",
      "  plt.imshow(180/np.pi *np.arctan(MagY/ MagX))\n"
     ]
    },
    {
     "data": {
      "text/plain": [
       "<matplotlib.colorbar.Colorbar at 0x16554720e80>"
      ]
     },
     "execution_count": 4,
     "metadata": {},
     "output_type": "execute_result"
    },
    {
     "data": {
      "image/png": "[encoded data removed]",
      "text/plain": [
       "<Figure size 1008x432 with 6 Axes>"
      ]
     },
     "metadata": {
      "needs_background": "light"
     },
     "output_type": "display_data"
    }
   ],
   "source": [
    "fig = plt.figure()\n",
    "fig.set_figwidth(14)\n",
    "fig.set_figheight(6)\n",
    "\n",
    "plt.subplot(1,3,1)\n",
    "plt.imshow(np.sqrt(MagX**2 + MagY**2),cmap='Blues')\n",
    "plt.colorbar()\n",
    "\n",
    "plt.subplot(1,3,2)\n",
    "plt.imshow(180/np.pi *np.arctan(MagY/ MagX))\n",
    "plt.colorbar()\n",
    "\n",
    "plt.subplot(1,3,3)\n",
    "plt.imshow(B*1e3, cmap='bwr')\n",
    "plt.colorbar()\n"
   ]
  },
  {
   "cell_type": "code",
   "execution_count": 5,
   "id": "46d6b7f2-9355-4a33-8a96-c70a1933b757",
   "metadata": {},
   "outputs": [
    {
     "name": "stdout",
     "output_type": "stream",
     "text": [
      "[[-1.78090550e-07 -1.83229168e-07 -1.88673316e-07 ... -1.62956550e-07\n",
      "  -1.67950809e-07 -1.72874973e-07]\n",
      " [-1.82161973e-07 -1.87648169e-07 -1.93046775e-07 ... -1.66820918e-07\n",
      "  -1.71755880e-07 -1.76999267e-07]\n",
      " [-1.86581852e-07 -1.92011459e-07 -1.97799696e-07 ... -1.70616352e-07\n",
      "  -1.75881093e-07 -1.81060519e-07]\n",
      " ...\n",
      " [-1.66368424e-07 -1.71283852e-07 -1.76137342e-07 ... -1.52428711e-07\n",
      "  -1.56946273e-07 -1.61684519e-07]\n",
      " [-1.70178910e-07 -1.75061974e-07 -1.80203569e-07 ... -1.55774021e-07\n",
      "  -1.60531341e-07 -1.65231813e-07]\n",
      " [-1.73975926e-07 -1.79157478e-07 -1.84264983e-07 ... -1.59384257e-07\n",
      "  -1.64095705e-07 -1.69069177e-07]]\n"
     ]
    }
   ],
   "source": [
    "# Define the dictionary for the forward propagation\n",
    "PropagationOptions = dict()\n",
    "PropagationOptions['PixelSize'] = 10e-9\n",
    "PropagationOptions['ImageShape'] = 256\n",
    "PropagationOptions['NV'] = dict()\n",
    "PropagationOptions['NV']['FindTheta']=False\n",
    "PropagationOptions['NV']['Theta'] = 0\n",
    "PropagationOptions['NV']['FindPhi']=False\n",
    "PropagationOptions['NV']['Phi'] = 0\n",
    "PropagationOptions['NV']['Height'] = 10e-9\n",
    "PropagationOptions['Magnetisation'] = dict()\n",
    "PropagationOptions['Magnetisation']['FindTheta']=False\n",
    "PropagationOptions['Magnetisation']['Theta'] = 0\n",
    "PropagationOptions['Magnetisation']['FindPhi']= False\n",
    "PropagationOptions['Magnetisation']['Phi'] = 0\n",
    "PropagationOptions['FFT'] = dict()\n",
    "PropagationOptions[\"FFT\"][\"PaddingFactor\"]= 2\n",
    "PropagationOptions[\"FFT\"][\"performPadding\"]= False\n",
    "PropagationOptions[\"FFT\"][\"PaddingMode\"] = 'constant'\n",
    "PropagationOptions['FFT']['Extended'] = False\n",
    "PropagationOptions['FFT']['Extention'] = 100\n",
    "PropagationOptions['FFT']['Filter'] = dict()\n",
    "PropagationOptions['FFT']['Filter']['useHanning'] = False \n",
    "PropagationOptions['FFT']['Filter']['useHighCutoff'] = False\n",
    "PropagationOptions['FFT']['Filter']['useLowCutoff'] = False\n",
    "PropagationOptions['FFT']['Filter']['LambdaHighCutoff'] = 100e-9\n",
    "PropagationOptions['FFT']['Filter']['LambdaLowCutoff'] = 7e-06\n",
    "\n",
    "PROP = Propagator(PropagationOptions, B,PropagationOptions['ImageShape'])\n",
    "# Extend the data set to the requested square dimensions\n",
    "# Returns to self.MagneticFieldExtended\n",
    "# PROP.reshape(PropagationOptions['ImageShape'])"
   ]
  },
  {
   "cell_type": "code",
   "execution_count": 6,
   "id": "e992e019-0092-4cc5-8cd5-0ed870e40362",
   "metadata": {},
   "outputs": [],
   "source": [
    "# Make the neural network\n",
    "device = torch.device('cuda' if torch.cuda.is_available() else 'cpu')\n",
    "Generator = generator_CNN(Size=1, ImageSize=PROP.options['ImageShape'], channels_in = 1, channels_out = 2).to(device)"
   ]
  },
  {
   "cell_type": "code",
   "execution_count": 7,
   "id": "73f2b42c-2905-48d7-b4b1-af05898b7926",
   "metadata": {},
   "outputs": [],
   "source": [
    "# Set the machine learning paramaters for keyword unpacking\n",
    "ML_options = dict()\n",
    "ML_options['mlp']=False\n",
    "ML_options['LossFunction']='L1'\n",
    "ML_options['Magnetization']=None\n",
    "ML_options['IntegerOnly']=False\n",
    "ML_options['PositiveMagnetisationOnly']=True\n",
    "ML_options['PrintLossValue']=False\n",
    "ML_options['Epochs']= 300"
   ]
  },
  {
   "cell_type": "code",
   "execution_count": null,
   "id": "64a04248-f52a-42a2-b7a0-07b457777f03",
   "metadata": {},
   "outputs": [
    {
     "name": "stderr",
     "output_type": "stream",
     "text": [
      "  0%|          | 0/300 [00:00<?, ?it/s]C:\\Users\\parax\\anaconda3\\envs\\py_new\\lib\\site-packages\\torch\\nn\\modules\\loss.py:96: UserWarning: Using a target size (torch.Size([256, 256])) that is different to the input size (torch.Size([1, 1, 256, 256])). This will likely lead to incorrect results due to broadcasting. Please ensure they have the same size.\n",
      "  return F.l1_loss(input, target, reduction=self.reduction)\n",
      "C:\\Users\\parax\\anaconda3\\envs\\py_new\\lib\\site-packages\\torch\\autograd\\__init__.py:154: UserWarning: Casting complex values to real discards the imaginary part (Triggered internally at  ..\\aten\\src\\ATen\\native\\Copy.cpp:244.)\n",
      "  Variable._execution_engine.run_backward(\n",
      " 13%|█▎        | 38/300 [00:10<01:13,  3.59it/s]"
     ]
    }
   ],
   "source": [
    "# Train the network\n",
    "CNN_training = Magnetisation_CNN_training(device, Generator, PROP,ML_options)\n",
    "bnv_cnn = CNN_training.train_cnn_multiple_channels(**ML_options)"
   ]
  },
  {
   "cell_type": "code",
   "execution_count": null,
   "id": "7f3f7f7a-f522-459b-aa8d-9849593098d4",
   "metadata": {},
   "outputs": [],
   "source": [
    "Results = CNN_training.extract_multiple_results()"
   ]
  },
  {
   "cell_type": "code",
   "execution_count": null,
   "id": "8b9015fe-2aca-444b-bb5e-7d78c339264b",
   "metadata": {},
   "outputs": [],
   "source": [
    "unit_conversion_M_to_B =9.27e-24 / 1e-18\n",
    "\n",
    "fig = plt.figure()\n",
    "fig.set_figwidth(16)\n",
    "fig.set_figheight(8)\n",
    "\n",
    "plt.subplot(2,3,1)\n",
    "plt.title('Simulated M magnitude')\n",
    "plt.imshow(np.sqrt(MagX**2 + MagY**2),cmap='Blues', vmin=0, vmax=35)\n",
    "plt.tick_params(left=False,\n",
    "                bottom=False,\n",
    "                labelleft=False,\n",
    "                labelbottom=False)\n",
    "plt.colorbar(fraction=0.046, pad=0.04,label=\"M  ($\\mu_B nm^2$)\")\n",
    "\n",
    "plt.subplot(2,3,2)\n",
    "plt.title('Simulated M angle')\n",
    "plt.imshow(180/np.pi *np.arctan(MagY/ MagX), vmin=0, vmax=90)\n",
    "plt.tick_params(left=False,\n",
    "                bottom=False,\n",
    "                labelleft=False,\n",
    "                labelbottom=False)\n",
    "plt.colorbar(fraction=0.046, pad=0.04,label=r\"$M_{\\theta}$  (deg)\")\n",
    "\n",
    "\n",
    "plt.subplot(2,3,3)\n",
    "plt.title('Simulated B')\n",
    "plt.imshow(B*1e6, cmap='bwr', vmin=-1000, vmax=1000)\n",
    "plt.tick_params(left=False,\n",
    "                bottom=False,\n",
    "                labelleft=False,\n",
    "                labelbottom=False)\n",
    "plt.colorbar(fraction=0.046, pad=0.04,label=\"B ($\\mu T)$\")\n",
    "\n",
    "\n",
    "plt.subplot(2,3,4)\n",
    "plt.imshow(Results['Magnetisation Mag'],cmap='Blues', vmin=0, vmax=35)\n",
    "plt.title('Reconstructed M magnitude')\n",
    "plt.tick_params(left=False,\n",
    "                bottom=False,\n",
    "                labelleft=False,\n",
    "                labelbottom=False)\n",
    "plt.colorbar(fraction=0.046, pad=0.04,label=\"M  ($\\mu_B nm^2$)\")\n",
    "\n",
    "\n",
    "plt.subplot(2,3,5)\n",
    "plt.imshow(Results['Magnetisation Angle'], vmin=0, vmax=90)\n",
    "plt.title('Reconstructed M Angle')\n",
    "plt.tick_params(left=False,\n",
    "                bottom=False,\n",
    "                labelleft=False,\n",
    "                labelbottom=False)\n",
    "plt.colorbar(fraction=0.046, pad=0.04,label=r\"$M_{\\theta}$  (deg)\")\n",
    "\n",
    "plt.subplot(2,3,6)\n",
    "plt.imshow(Results[\"Reconstructed B\"]* 1e6, cmap='bwr', vmin=-1000, vmax=1000)\n",
    "plt.title('Reconstructed B')\n",
    "plt.tick_params(left=False,\n",
    "                bottom=False,\n",
    "                labelleft=False,\n",
    "                labelbottom=False)\n",
    "plt.colorbar(fraction=0.046, pad=0.04,label=\"B ($\\mu T)$\")\n"
   ]
  },
  {
   "cell_type": "code",
   "execution_count": null,
   "id": "f3ad8831-aaeb-4e66-ac68-5de8c6771add",
   "metadata": {},
   "outputs": [],
   "source": [
    "fig = plt.figure()\n",
    "fig.set_figwidth(10)\n",
    "fig.set_figheight(8)\n",
    "\n",
    "plt.subplot(2,2,1)\n",
    "plt.imshow(MagX,cmap='Blues', vmin=0, vmax=30)\n",
    "plt.title('Simulated Mx')\n",
    "plt.tick_params(left=False,\n",
    "                bottom=False,\n",
    "                labelleft=False,\n",
    "                labelbottom=False)\n",
    "plt.colorbar(fraction=0.046, pad=0.04,label=\"M  ($\\mu_B nm^2$)\")\n",
    "\n",
    "plt.subplot(2,2,2)\n",
    "plt.imshow(MagY,cmap='Blues', vmin=0, vmax=30)\n",
    "plt.title('Simulated My')\n",
    "plt.tick_params(left=False,\n",
    "                bottom=False,\n",
    "                labelleft=False,\n",
    "                labelbottom=False)\n",
    "plt.colorbar(fraction=0.046, pad=0.04,label=\"M  ($\\mu_B nm^2$)\")\n",
    "\n",
    "plt.subplot(2,2,3)\n",
    "plt.title('Reconstructed Mx')\n",
    "plt.imshow(Results[\"Magnetisation X\"],cmap='Blues', vmin=0, vmax=30)\n",
    "plt.tick_params(left=False,\n",
    "                bottom=False,\n",
    "                labelleft=False,\n",
    "                labelbottom=False)\n",
    "plt.colorbar(fraction=0.046, pad=0.04,label=\"M  ($\\mu_B nm^2$)\")\n",
    "\n",
    "plt.subplot(2,2,4)\n",
    "plt.title('Reconstructed My')\n",
    "plt.imshow(Results[\"Magnetisation Y\"],cmap='Blues', vmin=0, vmax=30)\n",
    "plt.tick_params(left=False,\n",
    "                bottom=False,\n",
    "                labelleft=False,\n",
    "                labelbottom=False)\n",
    "plt.colorbar(fraction=0.046, pad=0.04,label=\"M  ($\\mu_B nm^2$)\")\n"
   ]
  },
  {
   "cell_type": "code",
   "execution_count": null,
   "id": "8f058a34-1a67-4fb6-9ef5-670a8ee61161",
   "metadata": {},
   "outputs": [],
   "source": [
    "# Making the combined magnetisation plot. \n",
    "from matplotlib.colors import Normalize\n",
    "# Create an alpha channel based on weight values\n",
    "alphas = Normalize(10, 35, clip=True)(np.abs(MagMag))\n",
    "alphas2 = Normalize(10, 35, clip = True)(np.abs(Results['Magnetisation Mag']))\n",
    "alphas = np.clip(alphas, .1, 1)  # alpha value clipped at the bottom at .\n",
    "alphas2 = np.clip(alphas2, .1, 1)  # alpha value clipped at the bottom at .\n",
    "\n",
    "fig, ax = plt.subplots(1,2)\n",
    "fig.set_figwidth(12)\n",
    "fig.set_figheight(8)\n",
    "\n",
    "angleImage = ax[0].imshow(MagAngle,cmap='rainbow', vmin=0, vmax=90)\n",
    "fig.colorbar(angleImage)\n",
    "ax[0].imshow(MagMag, alpha=alphas)\n",
    "ax[0].set_facecolor(\"white\")\n",
    "plt.title('Simulated Mx')\n",
    "\n",
    "\n",
    "angleImage = ax[1].imshow(Results['Magnetisation Angle'],cmap='rainbow', vmin=0, vmax=90)\n",
    "ax[1].imshow(Results['Magnetisation Angle'], alpha=alphas2)\n",
    "ax[1].set_facecolor(\"white\")\n",
    "plt.title('Reconstructed Mx')\n"
   ]
  },
  {
   "cell_type": "code",
   "execution_count": null,
   "id": "0890aa39-0bce-499b-9a37-eb40ce1170ac",
   "metadata": {},
   "outputs": [],
   "source": [
    "from Magnetisation.utils import SaveDictToJson\n",
    "SaveDictToJson(\"Nonuniform_Magnetisation_Reconstruction\", Results)"
   ]
  },
  {
   "cell_type": "code",
   "execution_count": null,
   "id": "e41f30fc-9923-41ac-a7be-e9499579957d",
   "metadata": {},
   "outputs": [],
   "source": []
  }
 ],
 "metadata": {
  "kernelspec": {
   "display_name": "Python 3 (ipykernel)",
   "language": "python",
   "name": "python3"
  },
  "language_info": {
   "codemirror_mode": {
    "name": "ipython",
    "version": 3
   },
   "file_extension": ".py",
   "mimetype": "text/x-python",
   "name": "python",
   "nbconvert_exporter": "python",
   "pygments_lexer": "ipython3",
   "version": "3.9.7"
  }
 },
 "nbformat": 4,
 "nbformat_minor": 5
}
